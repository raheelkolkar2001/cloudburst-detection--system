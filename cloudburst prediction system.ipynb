{
 "cells": [
  {
   "cell_type": "code",
   "execution_count": 1,
   "id": "392aaa7c",
   "metadata": {
    "scrolled": true
   },
   "outputs": [],
   "source": [
    "import numpy as np\n",
    "import pandas as pd"
   ]
  },
  {
   "cell_type": "code",
   "execution_count": 2,
   "id": "1ba4fdeb",
   "metadata": {},
   "outputs": [],
   "source": [
    "data = pd.read_csv('IndianWeatherRepository.csv')"
   ]
  },
  {
   "cell_type": "code",
   "execution_count": 3,
   "id": "ba8de1fe",
   "metadata": {},
   "outputs": [
    {
     "name": "stdout",
     "output_type": "stream",
     "text": [
      "<class 'pandas.core.frame.DataFrame'>\n",
      "RangeIndex: 9840 entries, 0 to 9839\n",
      "Data columns (total 37 columns):\n",
      " #   Column                        Non-Null Count  Dtype  \n",
      "---  ------                        --------------  -----  \n",
      " 0   country                       9840 non-null   object \n",
      " 1   region                        9840 non-null   object \n",
      " 2   latitude                      9840 non-null   float64\n",
      " 3   longitude                     9840 non-null   float64\n",
      " 4   timezone                      9840 non-null   object \n",
      " 5   last_updated_epoch            9840 non-null   int64  \n",
      " 6   last_updated                  9840 non-null   object \n",
      " 7   temperature_celsius           9840 non-null   float64\n",
      " 8   temperature_fahrenheit        9840 non-null   float64\n",
      " 9   condition_text                9840 non-null   float64\n",
      " 10  wind_mph                      9840 non-null   float64\n",
      " 11  wind_kph                      9840 non-null   float64\n",
      " 12  wind_degree                   9840 non-null   int64  \n",
      " 13  wind_direction                9840 non-null   float64\n",
      " 14  pressure_mb                   9840 non-null   float64\n",
      " 15  pressure_in                   9840 non-null   float64\n",
      " 16  precip_mm                     9840 non-null   float64\n",
      " 17  precip_in                     9840 non-null   float64\n",
      " 18  humidity                      9840 non-null   int64  \n",
      " 19  cloud                         9840 non-null   int64  \n",
      " 20  feels_like_celsius            9840 non-null   float64\n",
      " 21  feels_like_fahrenheit         9840 non-null   float64\n",
      " 22  visibility_km                 9840 non-null   float64\n",
      " 23  visibility_miles              9840 non-null   float64\n",
      " 24  uv_index                      9840 non-null   float64\n",
      " 25  gust_mph                      9840 non-null   float64\n",
      " 26  gust_kph                      9840 non-null   float64\n",
      " 27  air_quality_Carbon_Monoxide   9840 non-null   float64\n",
      " 28  air_quality_Ozone             9840 non-null   float64\n",
      " 29  air_quality_Nitrogen_dioxide  9840 non-null   float64\n",
      " 30  air_quality_Sulphur_dioxide   9840 non-null   float64\n",
      " 31  air_quality_PM2.5             9840 non-null   float64\n",
      " 32  air_quality_PM10              9840 non-null   float64\n",
      " 33  air_quality_us-epa-index      9840 non-null   int64  \n",
      " 34  air_quality_gb-defra-index    9840 non-null   int64  \n",
      " 35  moon_phase                    9840 non-null   float64\n",
      " 36  moon_illumination             9840 non-null   int64  \n",
      "dtypes: float64(26), int64(7), object(4)\n",
      "memory usage: 2.8+ MB\n"
     ]
    }
   ],
   "source": [
    "data.info()"
   ]
  },
  {
   "cell_type": "code",
   "execution_count": 4,
   "id": "be2970bd",
   "metadata": {},
   "outputs": [
    {
     "data": {
      "text/plain": [
       "condition_text\n",
       "0.0     2423\n",
       "16.0    1866\n",
       "9.0     1395\n",
       "7.0      949\n",
       "20.0     943\n",
       "22.0     772\n",
       "1.0      414\n",
       "10.0     244\n",
       "15.0     239\n",
       "2.0      216\n",
       "6.0      103\n",
       "11.0      55\n",
       "13.0      40\n",
       "24.0      30\n",
       "5.0       29\n",
       "23.0      26\n",
       "14.0      23\n",
       "17.0      21\n",
       "18.0      19\n",
       "3.0       17\n",
       "19.0       8\n",
       "8.0        3\n",
       "4.0        2\n",
       "21.0       2\n",
       "12.0       1\n",
       "Name: count, dtype: int64"
      ]
     },
     "execution_count": 4,
     "metadata": {},
     "output_type": "execute_result"
    }
   ],
   "source": [
    "data['condition_text'].value_counts()"
   ]
  },
  {
   "cell_type": "code",
   "execution_count": 5,
   "id": "57b27a3f",
   "metadata": {},
   "outputs": [
    {
     "data": {
      "text/plain": [
       "moon_phase\n",
       "3.0    3283\n",
       "4.0    3275\n",
       "0.0    1100\n",
       "2.0    1094\n",
       "1.0     545\n",
       "5.0     543\n",
       "Name: count, dtype: int64"
      ]
     },
     "execution_count": 5,
     "metadata": {},
     "output_type": "execute_result"
    }
   ],
   "source": [
    "data['moon_phase'].value_counts()"
   ]
  },
  {
   "cell_type": "code",
   "execution_count": 6,
   "id": "8c6f8125",
   "metadata": {},
   "outputs": [
    {
     "data": {
      "text/plain": [
       "wind_direction\n",
       "13.0    1523\n",
       "15.0    1392\n",
       "14.0     916\n",
       "0.0      694\n",
       "1.0      647\n",
       "4.0      569\n",
       "12.0     556\n",
       "7.0      524\n",
       "9.0      517\n",
       "2.0      452\n",
       "3.0      395\n",
       "10.0     337\n",
       "5.0      335\n",
       "11.0     331\n",
       "6.0      329\n",
       "8.0      323\n",
       "Name: count, dtype: int64"
      ]
     },
     "execution_count": 6,
     "metadata": {},
     "output_type": "execute_result"
    }
   ],
   "source": [
    "data['wind_direction'].value_counts()"
   ]
  },
  {
   "cell_type": "code",
   "execution_count": 7,
   "id": "6b1bcc8b",
   "metadata": {},
   "outputs": [
    {
     "name": "stderr",
     "output_type": "stream",
     "text": [
      "C:\\Users\\frkol\\anaconda3\\lib\\site-packages\\scipy\\__init__.py:146: UserWarning: A NumPy version >=1.16.5 and <1.23.0 is required for this version of SciPy (detected version 1.26.4\n",
      "  warnings.warn(f\"A NumPy version >={np_minversion} and <{np_maxversion}\"\n"
     ]
    }
   ],
   "source": [
    "from sklearn.preprocessing import OrdinalEncoder\n",
    "\n",
    "encoder = OrdinalEncoder()\n",
    "data[['condition_text','wind_direction','moon_phase']] = encoder.fit_transform(data[['condition_text','wind_direction','moon_phase']])"
   ]
  },
  {
   "cell_type": "code",
   "execution_count": 8,
   "id": "a3fdb0ab",
   "metadata": {},
   "outputs": [
    {
     "name": "stdout",
     "output_type": "stream",
     "text": [
      "<class 'pandas.core.frame.DataFrame'>\n",
      "RangeIndex: 9840 entries, 0 to 9839\n",
      "Data columns (total 37 columns):\n",
      " #   Column                        Non-Null Count  Dtype  \n",
      "---  ------                        --------------  -----  \n",
      " 0   country                       9840 non-null   object \n",
      " 1   region                        9840 non-null   object \n",
      " 2   latitude                      9840 non-null   float64\n",
      " 3   longitude                     9840 non-null   float64\n",
      " 4   timezone                      9840 non-null   object \n",
      " 5   last_updated_epoch            9840 non-null   int64  \n",
      " 6   last_updated                  9840 non-null   object \n",
      " 7   temperature_celsius           9840 non-null   float64\n",
      " 8   temperature_fahrenheit        9840 non-null   float64\n",
      " 9   condition_text                9840 non-null   float64\n",
      " 10  wind_mph                      9840 non-null   float64\n",
      " 11  wind_kph                      9840 non-null   float64\n",
      " 12  wind_degree                   9840 non-null   int64  \n",
      " 13  wind_direction                9840 non-null   float64\n",
      " 14  pressure_mb                   9840 non-null   float64\n",
      " 15  pressure_in                   9840 non-null   float64\n",
      " 16  precip_mm                     9840 non-null   float64\n",
      " 17  precip_in                     9840 non-null   float64\n",
      " 18  humidity                      9840 non-null   int64  \n",
      " 19  cloud                         9840 non-null   int64  \n",
      " 20  feels_like_celsius            9840 non-null   float64\n",
      " 21  feels_like_fahrenheit         9840 non-null   float64\n",
      " 22  visibility_km                 9840 non-null   float64\n",
      " 23  visibility_miles              9840 non-null   float64\n",
      " 24  uv_index                      9840 non-null   float64\n",
      " 25  gust_mph                      9840 non-null   float64\n",
      " 26  gust_kph                      9840 non-null   float64\n",
      " 27  air_quality_Carbon_Monoxide   9840 non-null   float64\n",
      " 28  air_quality_Ozone             9840 non-null   float64\n",
      " 29  air_quality_Nitrogen_dioxide  9840 non-null   float64\n",
      " 30  air_quality_Sulphur_dioxide   9840 non-null   float64\n",
      " 31  air_quality_PM2.5             9840 non-null   float64\n",
      " 32  air_quality_PM10              9840 non-null   float64\n",
      " 33  air_quality_us-epa-index      9840 non-null   int64  \n",
      " 34  air_quality_gb-defra-index    9840 non-null   int64  \n",
      " 35  moon_phase                    9840 non-null   float64\n",
      " 36  moon_illumination             9840 non-null   int64  \n",
      "dtypes: float64(26), int64(7), object(4)\n",
      "memory usage: 2.8+ MB\n"
     ]
    }
   ],
   "source": [
    "data.info()"
   ]
  },
  {
   "cell_type": "code",
   "execution_count": 9,
   "id": "e48bb384",
   "metadata": {},
   "outputs": [],
   "source": [
    "csv_file_path = 'IndianWeatherRepository (1).csv'\n",
    "data.to_csv(csv_file_path, index=False)"
   ]
  },
  {
   "cell_type": "code",
   "execution_count": 10,
   "id": "4096b2ed",
   "metadata": {},
   "outputs": [],
   "source": [
    "X = data.drop(['cloud'],axis=1)\n",
    "y = data['cloud']"
   ]
  },
  {
   "cell_type": "code",
   "execution_count": 11,
   "id": "1581993e",
   "metadata": {},
   "outputs": [
    {
     "data": {
      "text/html": [
       "<div>\n",
       "<style scoped>\n",
       "    .dataframe tbody tr th:only-of-type {\n",
       "        vertical-align: middle;\n",
       "    }\n",
       "\n",
       "    .dataframe tbody tr th {\n",
       "        vertical-align: top;\n",
       "    }\n",
       "\n",
       "    .dataframe thead th {\n",
       "        text-align: right;\n",
       "    }\n",
       "</style>\n",
       "<table border=\"1\" class=\"dataframe\">\n",
       "  <thead>\n",
       "    <tr style=\"text-align: right;\">\n",
       "      <th></th>\n",
       "      <th>country</th>\n",
       "      <th>region</th>\n",
       "      <th>latitude</th>\n",
       "      <th>longitude</th>\n",
       "      <th>timezone</th>\n",
       "      <th>last_updated_epoch</th>\n",
       "      <th>last_updated</th>\n",
       "      <th>temperature_celsius</th>\n",
       "      <th>temperature_fahrenheit</th>\n",
       "      <th>condition_text</th>\n",
       "      <th>...</th>\n",
       "      <th>air_quality_Carbon_Monoxide</th>\n",
       "      <th>air_quality_Ozone</th>\n",
       "      <th>air_quality_Nitrogen_dioxide</th>\n",
       "      <th>air_quality_Sulphur_dioxide</th>\n",
       "      <th>air_quality_PM2.5</th>\n",
       "      <th>air_quality_PM10</th>\n",
       "      <th>air_quality_us-epa-index</th>\n",
       "      <th>air_quality_gb-defra-index</th>\n",
       "      <th>moon_phase</th>\n",
       "      <th>moon_illumination</th>\n",
       "    </tr>\n",
       "  </thead>\n",
       "  <tbody>\n",
       "    <tr>\n",
       "      <th>0</th>\n",
       "      <td>India</td>\n",
       "      <td>Madhya Pradesh</td>\n",
       "      <td>24.57</td>\n",
       "      <td>77.72</td>\n",
       "      <td>Asia/Kolkata</td>\n",
       "      <td>1693286100</td>\n",
       "      <td>2023-08-29 10:45</td>\n",
       "      <td>27.5</td>\n",
       "      <td>81.5</td>\n",
       "      <td>16.0</td>\n",
       "      <td>...</td>\n",
       "      <td>243.7</td>\n",
       "      <td>45.8</td>\n",
       "      <td>1.7</td>\n",
       "      <td>3.1</td>\n",
       "      <td>12.6</td>\n",
       "      <td>18.5</td>\n",
       "      <td>1</td>\n",
       "      <td>2</td>\n",
       "      <td>5.0</td>\n",
       "      <td>93</td>\n",
       "    </tr>\n",
       "    <tr>\n",
       "      <th>1</th>\n",
       "      <td>India</td>\n",
       "      <td>Madhya Pradesh</td>\n",
       "      <td>23.33</td>\n",
       "      <td>77.80</td>\n",
       "      <td>Asia/Kolkata</td>\n",
       "      <td>1693286100</td>\n",
       "      <td>2023-08-29 10:45</td>\n",
       "      <td>27.5</td>\n",
       "      <td>81.5</td>\n",
       "      <td>22.0</td>\n",
       "      <td>...</td>\n",
       "      <td>240.3</td>\n",
       "      <td>38.3</td>\n",
       "      <td>2.1</td>\n",
       "      <td>2.6</td>\n",
       "      <td>10.7</td>\n",
       "      <td>14.2</td>\n",
       "      <td>1</td>\n",
       "      <td>1</td>\n",
       "      <td>5.0</td>\n",
       "      <td>93</td>\n",
       "    </tr>\n",
       "    <tr>\n",
       "      <th>2</th>\n",
       "      <td>India</td>\n",
       "      <td>Madhya Pradesh</td>\n",
       "      <td>22.07</td>\n",
       "      <td>78.93</td>\n",
       "      <td>Asia/Kolkata</td>\n",
       "      <td>1693286100</td>\n",
       "      <td>2023-08-29 10:45</td>\n",
       "      <td>26.3</td>\n",
       "      <td>79.3</td>\n",
       "      <td>16.0</td>\n",
       "      <td>...</td>\n",
       "      <td>220.3</td>\n",
       "      <td>57.2</td>\n",
       "      <td>0.6</td>\n",
       "      <td>1.7</td>\n",
       "      <td>16.8</td>\n",
       "      <td>20.7</td>\n",
       "      <td>2</td>\n",
       "      <td>2</td>\n",
       "      <td>5.0</td>\n",
       "      <td>93</td>\n",
       "    </tr>\n",
       "    <tr>\n",
       "      <th>3</th>\n",
       "      <td>India</td>\n",
       "      <td>Madhya Pradesh</td>\n",
       "      <td>21.86</td>\n",
       "      <td>77.93</td>\n",
       "      <td>Asia/Kolkata</td>\n",
       "      <td>1693286100</td>\n",
       "      <td>2023-08-29 10:45</td>\n",
       "      <td>25.6</td>\n",
       "      <td>78.1</td>\n",
       "      <td>1.0</td>\n",
       "      <td>...</td>\n",
       "      <td>200.3</td>\n",
       "      <td>25.0</td>\n",
       "      <td>1.2</td>\n",
       "      <td>1.1</td>\n",
       "      <td>4.9</td>\n",
       "      <td>6.6</td>\n",
       "      <td>1</td>\n",
       "      <td>1</td>\n",
       "      <td>5.0</td>\n",
       "      <td>93</td>\n",
       "    </tr>\n",
       "    <tr>\n",
       "      <th>4</th>\n",
       "      <td>India</td>\n",
       "      <td>Madhya Pradesh</td>\n",
       "      <td>22.75</td>\n",
       "      <td>77.72</td>\n",
       "      <td>Asia/Kolkata</td>\n",
       "      <td>1693286100</td>\n",
       "      <td>2023-08-29 10:45</td>\n",
       "      <td>27.2</td>\n",
       "      <td>81.0</td>\n",
       "      <td>1.0</td>\n",
       "      <td>...</td>\n",
       "      <td>257.0</td>\n",
       "      <td>30.8</td>\n",
       "      <td>2.2</td>\n",
       "      <td>1.8</td>\n",
       "      <td>11.4</td>\n",
       "      <td>14.8</td>\n",
       "      <td>1</td>\n",
       "      <td>1</td>\n",
       "      <td>5.0</td>\n",
       "      <td>93</td>\n",
       "    </tr>\n",
       "  </tbody>\n",
       "</table>\n",
       "<p>5 rows × 37 columns</p>\n",
       "</div>"
      ],
      "text/plain": [
       "  country          region  latitude  longitude      timezone  \\\n",
       "0   India  Madhya Pradesh     24.57      77.72  Asia/Kolkata   \n",
       "1   India  Madhya Pradesh     23.33      77.80  Asia/Kolkata   \n",
       "2   India  Madhya Pradesh     22.07      78.93  Asia/Kolkata   \n",
       "3   India  Madhya Pradesh     21.86      77.93  Asia/Kolkata   \n",
       "4   India  Madhya Pradesh     22.75      77.72  Asia/Kolkata   \n",
       "\n",
       "   last_updated_epoch      last_updated  temperature_celsius  \\\n",
       "0          1693286100  2023-08-29 10:45                 27.5   \n",
       "1          1693286100  2023-08-29 10:45                 27.5   \n",
       "2          1693286100  2023-08-29 10:45                 26.3   \n",
       "3          1693286100  2023-08-29 10:45                 25.6   \n",
       "4          1693286100  2023-08-29 10:45                 27.2   \n",
       "\n",
       "   temperature_fahrenheit  condition_text  ...  air_quality_Carbon_Monoxide  \\\n",
       "0                    81.5            16.0  ...                        243.7   \n",
       "1                    81.5            22.0  ...                        240.3   \n",
       "2                    79.3            16.0  ...                        220.3   \n",
       "3                    78.1             1.0  ...                        200.3   \n",
       "4                    81.0             1.0  ...                        257.0   \n",
       "\n",
       "   air_quality_Ozone  air_quality_Nitrogen_dioxide  \\\n",
       "0               45.8                           1.7   \n",
       "1               38.3                           2.1   \n",
       "2               57.2                           0.6   \n",
       "3               25.0                           1.2   \n",
       "4               30.8                           2.2   \n",
       "\n",
       "   air_quality_Sulphur_dioxide  air_quality_PM2.5  air_quality_PM10  \\\n",
       "0                          3.1               12.6              18.5   \n",
       "1                          2.6               10.7              14.2   \n",
       "2                          1.7               16.8              20.7   \n",
       "3                          1.1                4.9               6.6   \n",
       "4                          1.8               11.4              14.8   \n",
       "\n",
       "   air_quality_us-epa-index  air_quality_gb-defra-index  moon_phase  \\\n",
       "0                         1                           2         5.0   \n",
       "1                         1                           1         5.0   \n",
       "2                         2                           2         5.0   \n",
       "3                         1                           1         5.0   \n",
       "4                         1                           1         5.0   \n",
       "\n",
       "   moon_illumination  \n",
       "0                 93  \n",
       "1                 93  \n",
       "2                 93  \n",
       "3                 93  \n",
       "4                 93  \n",
       "\n",
       "[5 rows x 37 columns]"
      ]
     },
     "execution_count": 11,
     "metadata": {},
     "output_type": "execute_result"
    }
   ],
   "source": [
    "data.head()"
   ]
  },
  {
   "cell_type": "code",
   "execution_count": 12,
   "id": "e90ab196",
   "metadata": {},
   "outputs": [
    {
     "data": {
      "text/plain": [
       "(9840, 37)"
      ]
     },
     "execution_count": 12,
     "metadata": {},
     "output_type": "execute_result"
    }
   ],
   "source": [
    "data.shape"
   ]
  },
  {
   "cell_type": "code",
   "execution_count": 13,
   "id": "36fd3e5a",
   "metadata": {},
   "outputs": [
    {
     "data": {
      "text/plain": [
       "country                         0\n",
       "region                          0\n",
       "latitude                        0\n",
       "longitude                       0\n",
       "timezone                        0\n",
       "last_updated_epoch              0\n",
       "last_updated                    0\n",
       "temperature_celsius             0\n",
       "temperature_fahrenheit          0\n",
       "condition_text                  0\n",
       "wind_mph                        0\n",
       "wind_kph                        0\n",
       "wind_degree                     0\n",
       "wind_direction                  0\n",
       "pressure_mb                     0\n",
       "pressure_in                     0\n",
       "precip_mm                       0\n",
       "precip_in                       0\n",
       "humidity                        0\n",
       "cloud                           0\n",
       "feels_like_celsius              0\n",
       "feels_like_fahrenheit           0\n",
       "visibility_km                   0\n",
       "visibility_miles                0\n",
       "uv_index                        0\n",
       "gust_mph                        0\n",
       "gust_kph                        0\n",
       "air_quality_Carbon_Monoxide     0\n",
       "air_quality_Ozone               0\n",
       "air_quality_Nitrogen_dioxide    0\n",
       "air_quality_Sulphur_dioxide     0\n",
       "air_quality_PM2.5               0\n",
       "air_quality_PM10                0\n",
       "air_quality_us-epa-index        0\n",
       "air_quality_gb-defra-index      0\n",
       "moon_phase                      0\n",
       "moon_illumination               0\n",
       "dtype: int64"
      ]
     },
     "execution_count": 13,
     "metadata": {},
     "output_type": "execute_result"
    }
   ],
   "source": [
    "data.isnull().sum()"
   ]
  },
  {
   "cell_type": "code",
   "execution_count": 14,
   "id": "456aead5",
   "metadata": {},
   "outputs": [
    {
     "data": {
      "text/html": [
       "<div>\n",
       "<style scoped>\n",
       "    .dataframe tbody tr th:only-of-type {\n",
       "        vertical-align: middle;\n",
       "    }\n",
       "\n",
       "    .dataframe tbody tr th {\n",
       "        vertical-align: top;\n",
       "    }\n",
       "\n",
       "    .dataframe thead th {\n",
       "        text-align: right;\n",
       "    }\n",
       "</style>\n",
       "<table border=\"1\" class=\"dataframe\">\n",
       "  <thead>\n",
       "    <tr style=\"text-align: right;\">\n",
       "      <th></th>\n",
       "      <th>latitude</th>\n",
       "      <th>longitude</th>\n",
       "      <th>last_updated_epoch</th>\n",
       "      <th>temperature_celsius</th>\n",
       "      <th>temperature_fahrenheit</th>\n",
       "      <th>condition_text</th>\n",
       "      <th>wind_mph</th>\n",
       "      <th>wind_kph</th>\n",
       "      <th>wind_degree</th>\n",
       "      <th>wind_direction</th>\n",
       "      <th>...</th>\n",
       "      <th>air_quality_Carbon_Monoxide</th>\n",
       "      <th>air_quality_Ozone</th>\n",
       "      <th>air_quality_Nitrogen_dioxide</th>\n",
       "      <th>air_quality_Sulphur_dioxide</th>\n",
       "      <th>air_quality_PM2.5</th>\n",
       "      <th>air_quality_PM10</th>\n",
       "      <th>air_quality_us-epa-index</th>\n",
       "      <th>air_quality_gb-defra-index</th>\n",
       "      <th>moon_phase</th>\n",
       "      <th>moon_illumination</th>\n",
       "    </tr>\n",
       "  </thead>\n",
       "  <tbody>\n",
       "    <tr>\n",
       "      <th>count</th>\n",
       "      <td>9840.000000</td>\n",
       "      <td>9840.000000</td>\n",
       "      <td>9.840000e+03</td>\n",
       "      <td>9840.000000</td>\n",
       "      <td>9840.000000</td>\n",
       "      <td>9840.000000</td>\n",
       "      <td>9840.000000</td>\n",
       "      <td>9840.000000</td>\n",
       "      <td>9840.000000</td>\n",
       "      <td>9840.000000</td>\n",
       "      <td>...</td>\n",
       "      <td>9840.000000</td>\n",
       "      <td>9840.000000</td>\n",
       "      <td>9840.000000</td>\n",
       "      <td>9840.000000</td>\n",
       "      <td>9840.000000</td>\n",
       "      <td>9840.000000</td>\n",
       "      <td>9840.000000</td>\n",
       "      <td>9840.000000</td>\n",
       "      <td>9840.000000</td>\n",
       "      <td>9840.000000</td>\n",
       "    </tr>\n",
       "    <tr>\n",
       "      <th>mean</th>\n",
       "      <td>23.106256</td>\n",
       "      <td>80.229436</td>\n",
       "      <td>1.694004e+09</td>\n",
       "      <td>25.225061</td>\n",
       "      <td>77.405234</td>\n",
       "      <td>9.785061</td>\n",
       "      <td>6.104299</td>\n",
       "      <td>9.826657</td>\n",
       "      <td>194.218496</td>\n",
       "      <td>8.816260</td>\n",
       "      <td>...</td>\n",
       "      <td>517.490691</td>\n",
       "      <td>28.963831</td>\n",
       "      <td>8.153720</td>\n",
       "      <td>5.004970</td>\n",
       "      <td>37.884380</td>\n",
       "      <td>47.369014</td>\n",
       "      <td>2.146545</td>\n",
       "      <td>3.900711</td>\n",
       "      <td>2.885874</td>\n",
       "      <td>57.936179</td>\n",
       "    </tr>\n",
       "    <tr>\n",
       "      <th>std</th>\n",
       "      <td>5.797599</td>\n",
       "      <td>5.761152</td>\n",
       "      <td>4.487798e+05</td>\n",
       "      <td>3.838239</td>\n",
       "      <td>6.909241</td>\n",
       "      <td>7.778076</td>\n",
       "      <td>3.556082</td>\n",
       "      <td>5.718722</td>\n",
       "      <td>98.014747</td>\n",
       "      <td>5.166875</td>\n",
       "      <td>...</td>\n",
       "      <td>378.283009</td>\n",
       "      <td>23.135489</td>\n",
       "      <td>8.760918</td>\n",
       "      <td>13.205666</td>\n",
       "      <td>41.709817</td>\n",
       "      <td>49.579969</td>\n",
       "      <td>1.172866</td>\n",
       "      <td>3.291601</td>\n",
       "      <td>1.370965</td>\n",
       "      <td>36.604392</td>\n",
       "    </tr>\n",
       "    <tr>\n",
       "      <th>min</th>\n",
       "      <td>8.080000</td>\n",
       "      <td>68.970000</td>\n",
       "      <td>1.693286e+09</td>\n",
       "      <td>-2.600000</td>\n",
       "      <td>27.300000</td>\n",
       "      <td>0.000000</td>\n",
       "      <td>2.200000</td>\n",
       "      <td>3.600000</td>\n",
       "      <td>1.000000</td>\n",
       "      <td>0.000000</td>\n",
       "      <td>...</td>\n",
       "      <td>113.500000</td>\n",
       "      <td>0.000000</td>\n",
       "      <td>0.000000</td>\n",
       "      <td>0.000000</td>\n",
       "      <td>0.500000</td>\n",
       "      <td>0.700000</td>\n",
       "      <td>1.000000</td>\n",
       "      <td>1.000000</td>\n",
       "      <td>0.000000</td>\n",
       "      <td>1.000000</td>\n",
       "    </tr>\n",
       "    <tr>\n",
       "      <th>25%</th>\n",
       "      <td>20.270000</td>\n",
       "      <td>76.070000</td>\n",
       "      <td>1.693612e+09</td>\n",
       "      <td>23.600000</td>\n",
       "      <td>74.500000</td>\n",
       "      <td>1.000000</td>\n",
       "      <td>3.400000</td>\n",
       "      <td>5.400000</td>\n",
       "      <td>100.000000</td>\n",
       "      <td>4.000000</td>\n",
       "      <td>...</td>\n",
       "      <td>253.700000</td>\n",
       "      <td>12.300000</td>\n",
       "      <td>2.700000</td>\n",
       "      <td>0.900000</td>\n",
       "      <td>9.400000</td>\n",
       "      <td>13.100000</td>\n",
       "      <td>1.000000</td>\n",
       "      <td>1.000000</td>\n",
       "      <td>2.000000</td>\n",
       "      <td>22.000000</td>\n",
       "    </tr>\n",
       "    <tr>\n",
       "      <th>50%</th>\n",
       "      <td>23.970000</td>\n",
       "      <td>78.670000</td>\n",
       "      <td>1.694041e+09</td>\n",
       "      <td>25.600000</td>\n",
       "      <td>78.100000</td>\n",
       "      <td>9.000000</td>\n",
       "      <td>5.400000</td>\n",
       "      <td>8.600000</td>\n",
       "      <td>233.000000</td>\n",
       "      <td>10.000000</td>\n",
       "      <td>...</td>\n",
       "      <td>387.200000</td>\n",
       "      <td>24.300000</td>\n",
       "      <td>5.300000</td>\n",
       "      <td>2.200000</td>\n",
       "      <td>23.400000</td>\n",
       "      <td>31.200000</td>\n",
       "      <td>2.000000</td>\n",
       "      <td>2.000000</td>\n",
       "      <td>3.000000</td>\n",
       "      <td>60.000000</td>\n",
       "    </tr>\n",
       "    <tr>\n",
       "      <th>75%</th>\n",
       "      <td>26.772500</td>\n",
       "      <td>83.900000</td>\n",
       "      <td>1.694387e+09</td>\n",
       "      <td>27.300000</td>\n",
       "      <td>81.100000</td>\n",
       "      <td>16.000000</td>\n",
       "      <td>8.100000</td>\n",
       "      <td>13.000000</td>\n",
       "      <td>271.250000</td>\n",
       "      <td>13.000000</td>\n",
       "      <td>...</td>\n",
       "      <td>680.900000</td>\n",
       "      <td>40.100000</td>\n",
       "      <td>10.600000</td>\n",
       "      <td>5.100000</td>\n",
       "      <td>50.925000</td>\n",
       "      <td>63.400000</td>\n",
       "      <td>3.000000</td>\n",
       "      <td>6.000000</td>\n",
       "      <td>4.000000</td>\n",
       "      <td>94.000000</td>\n",
       "    </tr>\n",
       "    <tr>\n",
       "      <th>max</th>\n",
       "      <td>34.570000</td>\n",
       "      <td>95.800000</td>\n",
       "      <td>1.694732e+09</td>\n",
       "      <td>38.300000</td>\n",
       "      <td>100.900000</td>\n",
       "      <td>24.000000</td>\n",
       "      <td>25.700000</td>\n",
       "      <td>41.400000</td>\n",
       "      <td>360.000000</td>\n",
       "      <td>15.000000</td>\n",
       "      <td>...</td>\n",
       "      <td>5127.000000</td>\n",
       "      <td>158.800000</td>\n",
       "      <td>141.200000</td>\n",
       "      <td>541.700000</td>\n",
       "      <td>410.900000</td>\n",
       "      <td>466.700000</td>\n",
       "      <td>6.000000</td>\n",
       "      <td>10.000000</td>\n",
       "      <td>5.000000</td>\n",
       "      <td>100.000000</td>\n",
       "    </tr>\n",
       "  </tbody>\n",
       "</table>\n",
       "<p>8 rows × 33 columns</p>\n",
       "</div>"
      ],
      "text/plain": [
       "          latitude    longitude  last_updated_epoch  temperature_celsius  \\\n",
       "count  9840.000000  9840.000000        9.840000e+03          9840.000000   \n",
       "mean     23.106256    80.229436        1.694004e+09            25.225061   \n",
       "std       5.797599     5.761152        4.487798e+05             3.838239   \n",
       "min       8.080000    68.970000        1.693286e+09            -2.600000   \n",
       "25%      20.270000    76.070000        1.693612e+09            23.600000   \n",
       "50%      23.970000    78.670000        1.694041e+09            25.600000   \n",
       "75%      26.772500    83.900000        1.694387e+09            27.300000   \n",
       "max      34.570000    95.800000        1.694732e+09            38.300000   \n",
       "\n",
       "       temperature_fahrenheit  condition_text     wind_mph     wind_kph  \\\n",
       "count             9840.000000     9840.000000  9840.000000  9840.000000   \n",
       "mean                77.405234        9.785061     6.104299     9.826657   \n",
       "std                  6.909241        7.778076     3.556082     5.718722   \n",
       "min                 27.300000        0.000000     2.200000     3.600000   \n",
       "25%                 74.500000        1.000000     3.400000     5.400000   \n",
       "50%                 78.100000        9.000000     5.400000     8.600000   \n",
       "75%                 81.100000       16.000000     8.100000    13.000000   \n",
       "max                100.900000       24.000000    25.700000    41.400000   \n",
       "\n",
       "       wind_degree  wind_direction  ...  air_quality_Carbon_Monoxide  \\\n",
       "count  9840.000000     9840.000000  ...                  9840.000000   \n",
       "mean    194.218496        8.816260  ...                   517.490691   \n",
       "std      98.014747        5.166875  ...                   378.283009   \n",
       "min       1.000000        0.000000  ...                   113.500000   \n",
       "25%     100.000000        4.000000  ...                   253.700000   \n",
       "50%     233.000000       10.000000  ...                   387.200000   \n",
       "75%     271.250000       13.000000  ...                   680.900000   \n",
       "max     360.000000       15.000000  ...                  5127.000000   \n",
       "\n",
       "       air_quality_Ozone  air_quality_Nitrogen_dioxide  \\\n",
       "count        9840.000000                   9840.000000   \n",
       "mean           28.963831                      8.153720   \n",
       "std            23.135489                      8.760918   \n",
       "min             0.000000                      0.000000   \n",
       "25%            12.300000                      2.700000   \n",
       "50%            24.300000                      5.300000   \n",
       "75%            40.100000                     10.600000   \n",
       "max           158.800000                    141.200000   \n",
       "\n",
       "       air_quality_Sulphur_dioxide  air_quality_PM2.5  air_quality_PM10  \\\n",
       "count                  9840.000000        9840.000000       9840.000000   \n",
       "mean                      5.004970          37.884380         47.369014   \n",
       "std                      13.205666          41.709817         49.579969   \n",
       "min                       0.000000           0.500000          0.700000   \n",
       "25%                       0.900000           9.400000         13.100000   \n",
       "50%                       2.200000          23.400000         31.200000   \n",
       "75%                       5.100000          50.925000         63.400000   \n",
       "max                     541.700000         410.900000        466.700000   \n",
       "\n",
       "       air_quality_us-epa-index  air_quality_gb-defra-index   moon_phase  \\\n",
       "count               9840.000000                 9840.000000  9840.000000   \n",
       "mean                   2.146545                    3.900711     2.885874   \n",
       "std                    1.172866                    3.291601     1.370965   \n",
       "min                    1.000000                    1.000000     0.000000   \n",
       "25%                    1.000000                    1.000000     2.000000   \n",
       "50%                    2.000000                    2.000000     3.000000   \n",
       "75%                    3.000000                    6.000000     4.000000   \n",
       "max                    6.000000                   10.000000     5.000000   \n",
       "\n",
       "       moon_illumination  \n",
       "count        9840.000000  \n",
       "mean           57.936179  \n",
       "std            36.604392  \n",
       "min             1.000000  \n",
       "25%            22.000000  \n",
       "50%            60.000000  \n",
       "75%            94.000000  \n",
       "max           100.000000  \n",
       "\n",
       "[8 rows x 33 columns]"
      ]
     },
     "execution_count": 14,
     "metadata": {},
     "output_type": "execute_result"
    }
   ],
   "source": [
    "data.describe()"
   ]
  },
  {
   "cell_type": "code",
   "execution_count": 15,
   "id": "eee1c95c",
   "metadata": {},
   "outputs": [],
   "source": [
    "import pickle"
   ]
  },
  {
   "cell_type": "code",
   "execution_count": 16,
   "id": "0c05d40a",
   "metadata": {},
   "outputs": [],
   "source": [
    "with open('grp.pkl', 'rb') as file:\n",
    "    data1 = pickle.load(file)"
   ]
  },
  {
   "cell_type": "code",
   "execution_count": 17,
   "id": "b17a17c4",
   "metadata": {},
   "outputs": [
    {
     "name": "stdout",
     "output_type": "stream",
     "text": [
      "[[-652.18301802  689.32126575]\n",
      " [-650.52482877  673.73080894]\n",
      " [-616.99106803  712.18599004]\n",
      " ...\n",
      " [-673.13061896  526.39061802]\n",
      " [-675.43614362  597.38260833]\n",
      " [-702.22535911  587.55091284]]\n"
     ]
    }
   ],
   "source": [
    "print(data1)"
   ]
  },
  {
   "cell_type": "code",
   "execution_count": 18,
   "id": "82bb1d3c",
   "metadata": {},
   "outputs": [],
   "source": [
    "file.close()"
   ]
  },
  {
   "cell_type": "code",
   "execution_count": 19,
   "id": "3785eb83",
   "metadata": {},
   "outputs": [],
   "source": [
    "with open('lle.pkl', 'rb') as file:\n",
    "    data2 = pickle.load(file)"
   ]
  },
  {
   "cell_type": "code",
   "execution_count": 20,
   "id": "bf1e8a46",
   "metadata": {},
   "outputs": [
    {
     "name": "stdout",
     "output_type": "stream",
     "text": [
      "[[ 0.00489438  0.00498886]\n",
      " [ 0.00529408  0.00404274]\n",
      " [ 0.00678748  0.00319065]\n",
      " ...\n",
      " [ 0.0054228  -0.00030152]\n",
      " [ 0.00471529  0.0047783 ]\n",
      " [ 0.00377423  0.00704383]]\n"
     ]
    }
   ],
   "source": [
    "print(data2)"
   ]
  },
  {
   "cell_type": "code",
   "execution_count": 21,
   "id": "8c4de1ab",
   "metadata": {},
   "outputs": [],
   "source": [
    "file.close()"
   ]
  },
  {
   "cell_type": "code",
   "execution_count": 22,
   "id": "f6b9a7c1",
   "metadata": {},
   "outputs": [],
   "source": [
    "with open('pca.pkl', 'rb') as file:\n",
    "    data3 = pickle.load(file)"
   ]
  },
  {
   "cell_type": "code",
   "execution_count": 23,
   "id": "762f11a5",
   "metadata": {},
   "outputs": [
    {
     "name": "stdout",
     "output_type": "stream",
     "text": [
      "[[-283.97720525   63.9851067 ]\n",
      " [-288.4136737    68.86276468]\n",
      " [-310.01668501   97.72461068]\n",
      " ...\n",
      " [-114.79745501   46.1842597 ]\n",
      " [-313.79305381   33.47009809]\n",
      " [-313.92236217   25.15939884]]\n"
     ]
    }
   ],
   "source": [
    "print(data3)"
   ]
  },
  {
   "cell_type": "code",
   "execution_count": 24,
   "id": "796967d4",
   "metadata": {},
   "outputs": [],
   "source": [
    "with open('y.pkl', 'rb') as file:\n",
    "    data4 = pickle.load(file)"
   ]
  },
  {
   "cell_type": "code",
   "execution_count": 25,
   "id": "292d8b36",
   "metadata": {},
   "outputs": [
    {
     "name": "stdout",
     "output_type": "stream",
     "text": [
      "0       26\n",
      "1       19\n",
      "2       51\n",
      "3       65\n",
      "4       82\n",
      "        ..\n",
      "9835    50\n",
      "9836    61\n",
      "9837    38\n",
      "9838    19\n",
      "9839    66\n",
      "Name: cloud, Length: 9840, dtype: int64\n"
     ]
    }
   ],
   "source": [
    "print(data4)"
   ]
  },
  {
   "cell_type": "code",
   "execution_count": 26,
   "id": "81aa0ce4",
   "metadata": {},
   "outputs": [],
   "source": [
    "file.close()"
   ]
  },
  {
   "cell_type": "code",
   "execution_count": 27,
   "id": "cd653c6d",
   "metadata": {},
   "outputs": [],
   "source": [
    "import pandas as pd\n",
    "\n",
    "try:\n",
    "    with open('x.pkl', 'rb') as file:\n",
    "        data5 = pd.read_pickle(file)\n",
    "except AttributeError:\n",
    "    print(\"AttributeError encountered. Try upgrading pandas using 'pip install --upgrade pandas'.\")"
   ]
  },
  {
   "cell_type": "code",
   "execution_count": 28,
   "id": "ad7b9223",
   "metadata": {},
   "outputs": [
    {
     "name": "stdout",
     "output_type": "stream",
     "text": [
      "      latitude  longitude  temperature_celsius  condition_text  wind_mph  \\\n",
      "0        24.57      77.72                 27.5            16.0      12.8   \n",
      "1        23.33      77.80                 27.5            22.0       9.6   \n",
      "2        22.07      78.93                 26.3            16.0      11.4   \n",
      "3        21.86      77.93                 25.6             1.0      10.5   \n",
      "4        22.75      77.72                 27.2             1.0      10.1   \n",
      "...        ...        ...                  ...             ...       ...   \n",
      "9835     28.88      77.53                 30.0             9.0       2.2   \n",
      "9836     23.97      92.58                 20.2             9.0       2.2   \n",
      "9837     12.93      79.33                 26.0            16.0       8.7   \n",
      "9838      8.97      77.30                 23.8             0.0       8.7   \n",
      "9839     21.93      74.15                 21.8             9.0       5.8   \n",
      "\n",
      "      wind_degree  wind_direction  pressure_mb  pressure_in  precip_mm  ...  \\\n",
      "0             281            14.0       1008.0        29.77        0.0  ...   \n",
      "1             287            14.0       1008.0        29.78        0.0  ...   \n",
      "2             317             7.0       1009.0        29.78        0.0  ...   \n",
      "3             297            14.0       1009.0        29.80        0.0  ...   \n",
      "4             274            13.0       1009.0        29.79        0.0  ...   \n",
      "...           ...             ...          ...          ...        ...  ...   \n",
      "9835           10             3.0       1004.0        29.65        0.0  ...   \n",
      "9836          109             2.0       1008.0        29.78        0.0  ...   \n",
      "9837          260            13.0       1006.0        29.72        0.0  ...   \n",
      "9838          265            13.0       1010.0        29.82        0.0  ...   \n",
      "9839          256            15.0       1005.0        29.67        0.0  ...   \n",
      "\n",
      "      air_quality_Carbon_Monoxide  air_quality_Ozone  \\\n",
      "0                           243.7               45.8   \n",
      "1                           240.3               38.3   \n",
      "2                           220.3               57.2   \n",
      "3                           200.3               25.0   \n",
      "4                           257.0               30.8   \n",
      "...                           ...                ...   \n",
      "9835                       1335.1                0.0   \n",
      "9836                        270.4                0.2   \n",
      "9837                        413.9               14.3   \n",
      "9838                        213.6               24.0   \n",
      "9839                        210.3               13.4   \n",
      "\n",
      "      air_quality_Nitrogen_dioxide  air_quality_Sulphur_dioxide  \\\n",
      "0                              1.7                          3.1   \n",
      "1                              2.1                          2.6   \n",
      "2                              0.6                          1.7   \n",
      "3                              1.2                          1.1   \n",
      "4                              2.2                          1.8   \n",
      "...                            ...                          ...   \n",
      "9835                          28.5                         16.5   \n",
      "9836                           3.3                          0.3   \n",
      "9837                          13.0                          3.0   \n",
      "9838                           2.4                          0.7   \n",
      "9839                           4.2                          3.3   \n",
      "\n",
      "      air_quality_PM2.5  air_quality_PM10  air_quality_us-epa-index  \\\n",
      "0                  12.6              18.5                         1   \n",
      "1                  10.7              14.2                         1   \n",
      "2                  16.8              20.7                         2   \n",
      "3                   4.9               6.6                         1   \n",
      "4                  11.4              14.8                         1   \n",
      "...                 ...               ...                       ...   \n",
      "9835               94.3             113.9                         4   \n",
      "9836               11.2              11.9                         1   \n",
      "9837                5.7               8.3                         1   \n",
      "9838                2.9               3.6                         1   \n",
      "9839               12.1              14.9                         1   \n",
      "\n",
      "      air_quality_gb-defra-index  moon_phase  moon_illumination  \n",
      "0                              2         5.0                 93  \n",
      "1                              1         5.0                 93  \n",
      "2                              2         5.0                 93  \n",
      "3                              1         5.0                 93  \n",
      "4                              1         5.0                 93  \n",
      "...                          ...         ...                ...  \n",
      "9835                          10         2.0                  1  \n",
      "9836                           1         2.0                  1  \n",
      "9837                           1         2.0                  1  \n",
      "9838                           1         2.0                  1  \n",
      "9839                           2         2.0                  1  \n",
      "\n",
      "[9840 rows x 26 columns]\n"
     ]
    }
   ],
   "source": [
    "print(data5)"
   ]
  },
  {
   "cell_type": "code",
   "execution_count": 29,
   "id": "728051df",
   "metadata": {},
   "outputs": [],
   "source": [
    "file.close()"
   ]
  },
  {
   "cell_type": "code",
   "execution_count": 30,
   "id": "091c1af5",
   "metadata": {},
   "outputs": [
    {
     "name": "stdout",
     "output_type": "stream",
     "text": [
      "{'bootstrap': False, 'ccp_alpha': 0.0, 'criterion': 'mse', 'max_depth': None, 'max_features': 'auto', 'max_leaf_nodes': None, 'max_samples': None, 'min_impurity_decrease': 0.0, 'min_impurity_split': None, 'min_samples_leaf': 1, 'min_samples_split': 2, 'min_weight_fraction_leaf': 0.0, 'n_estimators': 100, 'n_jobs': None, 'oob_score': False, 'random_state': None, 'verbose': 0, 'warm_start': False}\n"
     ]
    }
   ],
   "source": [
    "from sklearn.ensemble import ExtraTreesRegressor\n",
    "model = ExtraTreesRegressor()\n",
    "\n",
    "print(model.get_params())\n",
    "model = ExtraTreesRegressor(min_samples_split=10)  "
   ]
  },
  {
   "cell_type": "code",
   "execution_count": 31,
   "id": "6e953135",
   "metadata": {},
   "outputs": [],
   "source": [
    "import pickle\n",
    "\n",
    "with open('pca.pkl', 'rb') as file:\n",
    "    X_pca_reduced = pickle.load(file)\n",
    "with open('grp.pkl', 'rb') as file:\n",
    "    X_grp_reduced = pickle.load(file)\n",
    "with open('lle.pkl', 'rb') as file:\n",
    "    X_lle_reduced = pickle.load(file)\n",
    "with open('y.pkl', 'rb') as file:\n",
    "    y = pickle.load(file)\n",
    "with open('x.pkl', 'rb') as file:\n",
    "    X = pickle.load(file)"
   ]
  },
  {
   "cell_type": "code",
   "execution_count": 32,
   "id": "13156a6b",
   "metadata": {},
   "outputs": [
    {
     "data": {
      "text/plain": [
       "(9840, 2)"
      ]
     },
     "execution_count": 32,
     "metadata": {},
     "output_type": "execute_result"
    }
   ],
   "source": [
    "X_pca_reduced.shape"
   ]
  },
  {
   "cell_type": "code",
   "execution_count": 33,
   "id": "c8383792",
   "metadata": {},
   "outputs": [],
   "source": [
    "from sklearn.metrics import mean_squared_error\n",
    "from sklearn.linear_model import LinearRegression\n",
    "from sklearn.linear_model import ElasticNet\n",
    "from sklearn.ensemble import ExtraTreesRegressor\n",
    "from sklearn.ensemble import RandomForestRegressor\n",
    "from sklearn.svm import SVR"
   ]
  },
  {
   "cell_type": "code",
   "execution_count": 34,
   "id": "0ac6195a",
   "metadata": {},
   "outputs": [],
   "source": [
    "from sklearn.model_selection import train_test_split\n",
    "\n",
    "X_train , X_test , y_train , y_test = train_test_split(X , y , test_size=0.2 , random_state=42)"
   ]
  },
  {
   "cell_type": "code",
   "execution_count": 35,
   "id": "caa411c7",
   "metadata": {},
   "outputs": [
    {
     "name": "stdout",
     "output_type": "stream",
     "text": [
      "Root mean squared error of the model : 21.28175822370346 \n"
     ]
    }
   ],
   "source": [
    "reg = LinearRegression()\n",
    "reg.fit(X_train , y_train)\n",
    "y_pred = reg.predict(X_test)\n",
    "\n",
    "rmse = np.sqrt(mean_squared_error(y_test , y_pred))\n",
    "print(f\"Root mean squared error of the model : {rmse} \")"
   ]
  },
  {
   "cell_type": "code",
   "execution_count": 36,
   "id": "40169c18",
   "metadata": {},
   "outputs": [
    {
     "name": "stdout",
     "output_type": "stream",
     "text": [
      "Root mean squared error of the model : 21.346953509855627 \n"
     ]
    }
   ],
   "source": [
    "reg = ElasticNet(alpha=0.1 , l1_ratio=0.5)\n",
    "reg.fit(X_train , y_train)\n",
    "y_pred = reg.predict(X_test)\n",
    "\n",
    "rmse = np.sqrt(mean_squared_error(y_test , y_pred))\n",
    "print(f\"Root mean squared error of the model : {rmse} \")"
   ]
  },
  {
   "cell_type": "code",
   "execution_count": 37,
   "id": "0e7bbb8b",
   "metadata": {},
   "outputs": [
    {
     "name": "stdout",
     "output_type": "stream",
     "text": [
      "Root mean squared error of the model : 7.827058704742138 \n"
     ]
    }
   ],
   "source": [
    "reg = ExtraTreesRegressor()\n",
    "reg.fit(X_train , y_train)\n",
    "y_pred = reg.predict(X_test)\n",
    "\n",
    "rmse = np.sqrt(mean_squared_error(y_test , y_pred))\n",
    "print(f\"Root mean squared error of the model : {rmse} \")"
   ]
  },
  {
   "cell_type": "code",
   "execution_count": 38,
   "id": "6c124dee",
   "metadata": {},
   "outputs": [
    {
     "name": "stdout",
     "output_type": "stream",
     "text": [
      "Root mean squared error of the model : 8.763317229325242 \n"
     ]
    }
   ],
   "source": [
    "reg = RandomForestRegressor()\n",
    "reg.fit(X_train , y_train)\n",
    "y_pred = reg.predict(X_test)\n",
    "\n",
    "rmse = np.sqrt(mean_squared_error(y_test , y_pred))\n",
    "print(f\"Root mean squared error of the model : {rmse} \")"
   ]
  },
  {
   "cell_type": "code",
   "execution_count": 39,
   "id": "160ad2bb",
   "metadata": {},
   "outputs": [
    {
     "name": "stdout",
     "output_type": "stream",
     "text": [
      "Root mean squared error of the model : 29.11262299509143 \n"
     ]
    }
   ],
   "source": [
    "reg = SVR()\n",
    "reg.fit(X_train , y_train)\n",
    "y_pred = reg.predict(X_test)\n",
    "\n",
    "rmse = np.sqrt(mean_squared_error(y_test , y_pred))\n",
    "print(f\"Root mean squared error of the model : {rmse} \")"
   ]
  },
  {
   "cell_type": "code",
   "execution_count": 40,
   "id": "b312fee8",
   "metadata": {},
   "outputs": [],
   "source": [
    "X_train_pca , X_test_pca , y_train_pca , y_test_pca = train_test_split(X_pca_reduced , y , test_size=0.2 , random_state=42)"
   ]
  },
  {
   "cell_type": "code",
   "execution_count": 41,
   "id": "7a09563a",
   "metadata": {},
   "outputs": [
    {
     "name": "stdout",
     "output_type": "stream",
     "text": [
      "Root mean squared error of the model : 31.350680292850857 \n"
     ]
    }
   ],
   "source": [
    "reg = LinearRegression()\n",
    "reg.fit(X_train_pca , y_train_pca)\n",
    "y_pred = reg.predict(X_test_pca)\n",
    "\n",
    "rmse = np.sqrt(mean_squared_error(y_test_pca , y_pred))\n",
    "print(f\"Root mean squared error of the model : {rmse} \")"
   ]
  },
  {
   "cell_type": "code",
   "execution_count": 42,
   "id": "f759b020",
   "metadata": {},
   "outputs": [
    {
     "name": "stdout",
     "output_type": "stream",
     "text": [
      "Root mean squared error of the model : 31.350652229380728 \n"
     ]
    }
   ],
   "source": [
    "reg = ElasticNet(alpha=0.1 , l1_ratio=0.5)\n",
    "reg.fit(X_train_pca , y_train_pca)\n",
    "y_pred = reg.predict(X_test_pca)\n",
    "\n",
    "rmse = np.sqrt(mean_squared_error(y_test_pca , y_pred))\n",
    "print(f\"Root mean squared error of the model : {rmse} \")"
   ]
  },
  {
   "cell_type": "code",
   "execution_count": 43,
   "id": "535e4351",
   "metadata": {},
   "outputs": [
    {
     "name": "stdout",
     "output_type": "stream",
     "text": [
      "Root mean squared error of the model : 29.701186397596928 \n"
     ]
    }
   ],
   "source": [
    "reg = ExtraTreesRegressor()\n",
    "reg.fit(X_train_pca , y_train_pca)\n",
    "y_pred = reg.predict(X_test_pca)\n",
    "\n",
    "rmse = np.sqrt(mean_squared_error(y_test_pca , y_pred))\n",
    "print(f\"Root mean squared error of the model : {rmse} \")"
   ]
  },
  {
   "cell_type": "code",
   "execution_count": 44,
   "id": "b887a517",
   "metadata": {},
   "outputs": [
    {
     "name": "stdout",
     "output_type": "stream",
     "text": [
      "Root mean squared error of the model : 29.542312648744662 \n"
     ]
    }
   ],
   "source": [
    "reg = RandomForestRegressor()\n",
    "reg.fit(X_train_pca , y_train_pca)\n",
    "y_pred = reg.predict(X_test_pca)\n",
    "\n",
    "rmse = np.sqrt(mean_squared_error(y_test_pca , y_pred))\n",
    "print(f\"Root mean squared error of the model : {rmse} \")"
   ]
  },
  {
   "cell_type": "code",
   "execution_count": 45,
   "id": "a0d9af06",
   "metadata": {},
   "outputs": [
    {
     "name": "stdout",
     "output_type": "stream",
     "text": [
      "Root mean squared error of the model : 31.37039595314812 \n"
     ]
    }
   ],
   "source": [
    "reg = SVR()\n",
    "reg.fit(X_train_pca , y_train_pca)\n",
    "y_pred = reg.predict(X_test_pca)\n",
    "\n",
    "rmse = np.sqrt(mean_squared_error(y_test_pca , y_pred))\n",
    "print(f\"Root mean squared error of the model : {rmse} \")"
   ]
  },
  {
   "cell_type": "code",
   "execution_count": 46,
   "id": "a11b593f",
   "metadata": {},
   "outputs": [],
   "source": [
    "X_train_grp , X_test_grp , y_train_grp , y_test_grp = train_test_split(X_grp_reduced , y , test_size=0.2 , random_state=42)"
   ]
  },
  {
   "cell_type": "code",
   "execution_count": 47,
   "id": "4839fc2c",
   "metadata": {},
   "outputs": [
    {
     "name": "stdout",
     "output_type": "stream",
     "text": [
      "Root mean squared error of the model : 30.988720713986574 \n"
     ]
    }
   ],
   "source": [
    "reg = LinearRegression()\n",
    "reg.fit(X_train_grp , y_train_grp)\n",
    "y_pred = reg.predict(X_test_grp)\n",
    "\n",
    "rmse = np.sqrt(mean_squared_error(y_test_grp , y_pred))\n",
    "print(f\"Root mean squared error of the model : {rmse} \")"
   ]
  },
  {
   "cell_type": "code",
   "execution_count": 48,
   "id": "34a99322",
   "metadata": {},
   "outputs": [
    {
     "name": "stdout",
     "output_type": "stream",
     "text": [
      "Root mean squared error of the model : 30.988722128431302 \n"
     ]
    }
   ],
   "source": [
    "reg = ElasticNet(alpha=0.15 , l1_ratio=0.5)\n",
    "reg.fit(X_train_grp , y_train_grp)\n",
    "y_pred = reg.predict(X_test_grp)\n",
    "\n",
    "rmse = np.sqrt(mean_squared_error(y_test_grp , y_pred))\n",
    "print(f\"Root mean squared error of the model : {rmse} \")"
   ]
  },
  {
   "cell_type": "code",
   "execution_count": 49,
   "id": "c371e5d5",
   "metadata": {},
   "outputs": [
    {
     "name": "stdout",
     "output_type": "stream",
     "text": [
      "Root mean squared error of the model : 29.093846256379326 \n"
     ]
    }
   ],
   "source": [
    "reg = ExtraTreesRegressor()\n",
    "reg.fit(X_train_grp , y_train_grp)\n",
    "y_pred = reg.predict(X_test_grp)\n",
    "\n",
    "rmse = np.sqrt(mean_squared_error(y_test_grp , y_pred))\n",
    "print(f\"Root mean squared error of the model : {rmse} \")"
   ]
  },
  {
   "cell_type": "code",
   "execution_count": 50,
   "id": "bd1374d7",
   "metadata": {},
   "outputs": [
    {
     "name": "stdout",
     "output_type": "stream",
     "text": [
      "Root mean squared error of the model : 28.915866943206733 \n"
     ]
    }
   ],
   "source": [
    "reg = RandomForestRegressor()\n",
    "reg.fit(X_train_grp , y_train_grp)\n",
    "y_pred = reg.predict(X_test_grp)\n",
    "\n",
    "rmse = np.sqrt(mean_squared_error(y_test_grp , y_pred))\n",
    "print(f\"Root mean squared error of the model : {rmse} \")"
   ]
  },
  {
   "cell_type": "code",
   "execution_count": 51,
   "id": "6b925127",
   "metadata": {},
   "outputs": [
    {
     "name": "stdout",
     "output_type": "stream",
     "text": [
      "Root mean squared error of the model : 30.72016884652581 \n"
     ]
    }
   ],
   "source": [
    "reg = SVR()\n",
    "reg.fit(X_train_grp , y_train_grp)\n",
    "y_pred = reg.predict(X_test_grp)\n",
    "\n",
    "rmse = np.sqrt(mean_squared_error(y_test_grp , y_pred))\n",
    "print(f\"Root mean squared error of the model : {rmse} \")"
   ]
  },
  {
   "cell_type": "code",
   "execution_count": 52,
   "id": "07fa91ab",
   "metadata": {},
   "outputs": [],
   "source": [
    "X_train_lle , X_test_lle , y_train_lle , y_test_lle = train_test_split(X_lle_reduced , y , test_size=0.2 , random_state=42)"
   ]
  },
  {
   "cell_type": "code",
   "execution_count": 53,
   "id": "5e0eaaaa",
   "metadata": {},
   "outputs": [
    {
     "name": "stdout",
     "output_type": "stream",
     "text": [
      "Root mean squared error of the model : 31.45563757876123 \n"
     ]
    }
   ],
   "source": [
    "reg = LinearRegression()\n",
    "reg.fit(X_train_lle , y_train_lle)\n",
    "y_pred = reg.predict(X_test_lle)\n",
    "\n",
    "rmse = np.sqrt(mean_squared_error(y_test_lle , y_pred))\n",
    "print(f\"Root mean squared error of the model : {rmse} \")"
   ]
  },
  {
   "cell_type": "code",
   "execution_count": 54,
   "id": "bc13eacc",
   "metadata": {},
   "outputs": [
    {
     "name": "stdout",
     "output_type": "stream",
     "text": [
      "Root mean squared error of the model : 31.899375937867827 \n"
     ]
    }
   ],
   "source": [
    "reg = ElasticNet(alpha=0.15 , l1_ratio=0.5)\n",
    "reg.fit(X_train_lle , y_train_lle)\n",
    "y_pred = reg.predict(X_test_lle)\n",
    "\n",
    "rmse = np.sqrt(mean_squared_error(y_test_lle , y_pred))\n",
    "print(f\"Root mean squared error of the model : {rmse} \")"
   ]
  },
  {
   "cell_type": "code",
   "execution_count": 55,
   "id": "98514233",
   "metadata": {},
   "outputs": [
    {
     "name": "stdout",
     "output_type": "stream",
     "text": [
      "Root mean squared error of the model : 29.67400600642778 \n"
     ]
    }
   ],
   "source": [
    "reg = ExtraTreesRegressor()\n",
    "reg.fit(X_train_lle , y_train_lle)\n",
    "y_pred = reg.predict(X_test_lle)\n",
    "\n",
    "rmse = np.sqrt(mean_squared_error(y_test_lle , y_pred))\n",
    "print(f\"Root mean squared error of the model : {rmse} \")"
   ]
  },
  {
   "cell_type": "code",
   "execution_count": 56,
   "id": "569d0ca2",
   "metadata": {},
   "outputs": [
    {
     "name": "stdout",
     "output_type": "stream",
     "text": [
      "Root mean squared error of the model : 29.75342766087864 \n"
     ]
    }
   ],
   "source": [
    "reg = RandomForestRegressor()\n",
    "reg.fit(X_train_lle , y_train_lle)\n",
    "y_pred = reg.predict(X_test_lle)\n",
    "\n",
    "rmse = np.sqrt(mean_squared_error(y_test_lle , y_pred))\n",
    "print(f\"Root mean squared error of the model : {rmse} \")"
   ]
  },
  {
   "cell_type": "code",
   "execution_count": 57,
   "id": "103312fa",
   "metadata": {},
   "outputs": [
    {
     "name": "stdout",
     "output_type": "stream",
     "text": [
      "Root mean squared error of the model : 31.30273207817544 \n"
     ]
    }
   ],
   "source": [
    "reg = SVR()\n",
    "reg.fit(X_train_lle , y_train_lle)\n",
    "y_pred = reg.predict(X_test_lle)\n",
    "\n",
    "rmse = np.sqrt(mean_squared_error(y_test_lle , y_pred))\n",
    "print(f\"Root mean squared error of the model : {rmse} \")"
   ]
  },
  {
   "cell_type": "code",
   "execution_count": 58,
   "id": "59329057",
   "metadata": {},
   "outputs": [
    {
     "name": "stdout",
     "output_type": "stream",
     "text": [
      "Root mean squared error of the model : 8.409417763069042 \n"
     ]
    }
   ],
   "source": [
    "from sklearn.ensemble import StackingRegressor\n",
    "\n",
    "stacking_reg = StackingRegressor(\n",
    "    estimators = [\n",
    "        ('Extra Trees ',ExtraTreesRegressor()),\n",
    "        ('Random Forest ',RandomForestRegressor()),\n",
    "        ('Linear Regression', LinearRegression())\n",
    "    ],\n",
    "    final_estimator = ExtraTreesRegressor() , cv = 5\n",
    ")\n",
    "stacking_reg.fit(X_train , y_train)\n",
    "y_pred = stacking_reg.predict(X_test)\n",
    "\n",
    "rmse = np.sqrt(mean_squared_error(y_test , y_pred))\n",
    "print(f\"Root mean squared error of the model : {rmse} \")"
   ]
  },
  {
   "cell_type": "code",
   "execution_count": 59,
   "id": "36c554fb",
   "metadata": {},
   "outputs": [],
   "source": [
    "with open('ml_model.pkl', 'wb') as file:\n",
    "    pickle.dump(stacking_reg, file)"
   ]
  },
  {
   "cell_type": "code",
   "execution_count": 60,
   "id": "2c6dc251",
   "metadata": {},
   "outputs": [],
   "source": [
    "import numpy as np\n",
    "import pandas as pd\n",
    "import tensorflow as tf"
   ]
  },
  {
   "cell_type": "code",
   "execution_count": 61,
   "id": "1eb79ff8",
   "metadata": {},
   "outputs": [],
   "source": [
    "from sklearn.model_selection import train_test_split\n",
    "\n",
    "X_train , X_valid , y_train , y_valid = train_test_split(X , y , test_size=0.2 , random_state=42)"
   ]
  },
  {
   "cell_type": "code",
   "execution_count": 62,
   "id": "a9f72dc9",
   "metadata": {},
   "outputs": [],
   "source": [
    "from keras.layers import Input, BatchNormalization\n",
    "from keras.models import Sequential\n",
    "\n",
    "model = Sequential()\n",
    "model.add(Input(shape=(32,)))\n",
    "model.add(BatchNormalization())"
   ]
  },
  {
   "cell_type": "code",
   "execution_count": 63,
   "id": "dd983514",
   "metadata": {},
   "outputs": [
    {
     "name": "stderr",
     "output_type": "stream",
     "text": [
      "C:\\Users\\frkol\\anaconda3\\lib\\site-packages\\keras\\src\\layers\\preprocessing\\normalization.py:99: UserWarning: Do not pass an `input_shape`/`input_dim` argument to a layer. When using Sequential models, prefer using an `Input(shape)` object as the first layer in the model instead.\n",
      "  super().__init__(**kwargs)\n"
     ]
    }
   ],
   "source": [
    "tf.random.set_seed(42)\n",
    "norm_layer = tf.keras.layers.Normalization(input_shape=X_train.shape[1:])\n",
    "model = tf.keras.Sequential([\n",
    "    norm_layer,\n",
    "    tf.keras.layers.Dense(50, activation=\"relu\"),\n",
    "    tf.keras.layers.Dense(50, activation=\"relu\"),\n",
    "    tf.keras.layers.Dense(50, activation=\"relu\"),\n",
    "    tf.keras.layers.Dense(50, activation=\"relu\"),\n",
    "    tf.keras.layers.Dense(50, activation=\"relu\"),\n",
    "    tf.keras.layers.Dense(50, activation=\"relu\"),\n",
    "    tf.keras.layers.Dense(50, activation=\"relu\"),\n",
    "    tf.keras.layers.Dense(1)\n",
    "])"
   ]
  },
  {
   "cell_type": "code",
   "execution_count": 64,
   "id": "f3308d77",
   "metadata": {},
   "outputs": [
    {
     "data": {
      "text/html": [
       "<pre style=\"white-space:pre;overflow-x:auto;line-height:normal;font-family:Menlo,'DejaVu Sans Mono',consolas,'Courier New',monospace\"><span style=\"font-weight: bold\">Model: \"sequential_1\"</span>\n",
       "</pre>\n"
      ],
      "text/plain": [
       "\u001b[1mModel: \"sequential_1\"\u001b[0m\n"
      ]
     },
     "metadata": {},
     "output_type": "display_data"
    },
    {
     "data": {
      "text/html": [
       "<pre style=\"white-space:pre;overflow-x:auto;line-height:normal;font-family:Menlo,'DejaVu Sans Mono',consolas,'Courier New',monospace\">┏━━━━━━━━━━━━━━━━━━━━━━━━━━━━━━━━━━━━━━┳━━━━━━━━━━━━━━━━━━━━━━━━━━━━━┳━━━━━━━━━━━━━━━━━┓\n",
       "┃<span style=\"font-weight: bold\"> Layer (type)                         </span>┃<span style=\"font-weight: bold\"> Output Shape                </span>┃<span style=\"font-weight: bold\">         Param # </span>┃\n",
       "┡━━━━━━━━━━━━━━━━━━━━━━━━━━━━━━━━━━━━━━╇━━━━━━━━━━━━━━━━━━━━━━━━━━━━━╇━━━━━━━━━━━━━━━━━┩\n",
       "│ normalization (<span style=\"color: #0087ff; text-decoration-color: #0087ff\">Normalization</span>)        │ (<span style=\"color: #00d7ff; text-decoration-color: #00d7ff\">None</span>, <span style=\"color: #00af00; text-decoration-color: #00af00\">26</span>)                  │              <span style=\"color: #00af00; text-decoration-color: #00af00\">53</span> │\n",
       "├──────────────────────────────────────┼─────────────────────────────┼─────────────────┤\n",
       "│ dense (<span style=\"color: #0087ff; text-decoration-color: #0087ff\">Dense</span>)                        │ (<span style=\"color: #00d7ff; text-decoration-color: #00d7ff\">None</span>, <span style=\"color: #00af00; text-decoration-color: #00af00\">50</span>)                  │           <span style=\"color: #00af00; text-decoration-color: #00af00\">1,350</span> │\n",
       "├──────────────────────────────────────┼─────────────────────────────┼─────────────────┤\n",
       "│ dense_1 (<span style=\"color: #0087ff; text-decoration-color: #0087ff\">Dense</span>)                      │ (<span style=\"color: #00d7ff; text-decoration-color: #00d7ff\">None</span>, <span style=\"color: #00af00; text-decoration-color: #00af00\">50</span>)                  │           <span style=\"color: #00af00; text-decoration-color: #00af00\">2,550</span> │\n",
       "├──────────────────────────────────────┼─────────────────────────────┼─────────────────┤\n",
       "│ dense_2 (<span style=\"color: #0087ff; text-decoration-color: #0087ff\">Dense</span>)                      │ (<span style=\"color: #00d7ff; text-decoration-color: #00d7ff\">None</span>, <span style=\"color: #00af00; text-decoration-color: #00af00\">50</span>)                  │           <span style=\"color: #00af00; text-decoration-color: #00af00\">2,550</span> │\n",
       "├──────────────────────────────────────┼─────────────────────────────┼─────────────────┤\n",
       "│ dense_3 (<span style=\"color: #0087ff; text-decoration-color: #0087ff\">Dense</span>)                      │ (<span style=\"color: #00d7ff; text-decoration-color: #00d7ff\">None</span>, <span style=\"color: #00af00; text-decoration-color: #00af00\">50</span>)                  │           <span style=\"color: #00af00; text-decoration-color: #00af00\">2,550</span> │\n",
       "├──────────────────────────────────────┼─────────────────────────────┼─────────────────┤\n",
       "│ dense_4 (<span style=\"color: #0087ff; text-decoration-color: #0087ff\">Dense</span>)                      │ (<span style=\"color: #00d7ff; text-decoration-color: #00d7ff\">None</span>, <span style=\"color: #00af00; text-decoration-color: #00af00\">50</span>)                  │           <span style=\"color: #00af00; text-decoration-color: #00af00\">2,550</span> │\n",
       "├──────────────────────────────────────┼─────────────────────────────┼─────────────────┤\n",
       "│ dense_5 (<span style=\"color: #0087ff; text-decoration-color: #0087ff\">Dense</span>)                      │ (<span style=\"color: #00d7ff; text-decoration-color: #00d7ff\">None</span>, <span style=\"color: #00af00; text-decoration-color: #00af00\">50</span>)                  │           <span style=\"color: #00af00; text-decoration-color: #00af00\">2,550</span> │\n",
       "├──────────────────────────────────────┼─────────────────────────────┼─────────────────┤\n",
       "│ dense_6 (<span style=\"color: #0087ff; text-decoration-color: #0087ff\">Dense</span>)                      │ (<span style=\"color: #00d7ff; text-decoration-color: #00d7ff\">None</span>, <span style=\"color: #00af00; text-decoration-color: #00af00\">50</span>)                  │           <span style=\"color: #00af00; text-decoration-color: #00af00\">2,550</span> │\n",
       "├──────────────────────────────────────┼─────────────────────────────┼─────────────────┤\n",
       "│ dense_7 (<span style=\"color: #0087ff; text-decoration-color: #0087ff\">Dense</span>)                      │ (<span style=\"color: #00d7ff; text-decoration-color: #00d7ff\">None</span>, <span style=\"color: #00af00; text-decoration-color: #00af00\">1</span>)                   │              <span style=\"color: #00af00; text-decoration-color: #00af00\">51</span> │\n",
       "└──────────────────────────────────────┴─────────────────────────────┴─────────────────┘\n",
       "</pre>\n"
      ],
      "text/plain": [
       "┏━━━━━━━━━━━━━━━━━━━━━━━━━━━━━━━━━━━━━━┳━━━━━━━━━━━━━━━━━━━━━━━━━━━━━┳━━━━━━━━━━━━━━━━━┓\n",
       "┃\u001b[1m \u001b[0m\u001b[1mLayer (type)                        \u001b[0m\u001b[1m \u001b[0m┃\u001b[1m \u001b[0m\u001b[1mOutput Shape               \u001b[0m\u001b[1m \u001b[0m┃\u001b[1m \u001b[0m\u001b[1m        Param #\u001b[0m\u001b[1m \u001b[0m┃\n",
       "┡━━━━━━━━━━━━━━━━━━━━━━━━━━━━━━━━━━━━━━╇━━━━━━━━━━━━━━━━━━━━━━━━━━━━━╇━━━━━━━━━━━━━━━━━┩\n",
       "│ normalization (\u001b[38;5;33mNormalization\u001b[0m)        │ (\u001b[38;5;45mNone\u001b[0m, \u001b[38;5;34m26\u001b[0m)                  │              \u001b[38;5;34m53\u001b[0m │\n",
       "├──────────────────────────────────────┼─────────────────────────────┼─────────────────┤\n",
       "│ dense (\u001b[38;5;33mDense\u001b[0m)                        │ (\u001b[38;5;45mNone\u001b[0m, \u001b[38;5;34m50\u001b[0m)                  │           \u001b[38;5;34m1,350\u001b[0m │\n",
       "├──────────────────────────────────────┼─────────────────────────────┼─────────────────┤\n",
       "│ dense_1 (\u001b[38;5;33mDense\u001b[0m)                      │ (\u001b[38;5;45mNone\u001b[0m, \u001b[38;5;34m50\u001b[0m)                  │           \u001b[38;5;34m2,550\u001b[0m │\n",
       "├──────────────────────────────────────┼─────────────────────────────┼─────────────────┤\n",
       "│ dense_2 (\u001b[38;5;33mDense\u001b[0m)                      │ (\u001b[38;5;45mNone\u001b[0m, \u001b[38;5;34m50\u001b[0m)                  │           \u001b[38;5;34m2,550\u001b[0m │\n",
       "├──────────────────────────────────────┼─────────────────────────────┼─────────────────┤\n",
       "│ dense_3 (\u001b[38;5;33mDense\u001b[0m)                      │ (\u001b[38;5;45mNone\u001b[0m, \u001b[38;5;34m50\u001b[0m)                  │           \u001b[38;5;34m2,550\u001b[0m │\n",
       "├──────────────────────────────────────┼─────────────────────────────┼─────────────────┤\n",
       "│ dense_4 (\u001b[38;5;33mDense\u001b[0m)                      │ (\u001b[38;5;45mNone\u001b[0m, \u001b[38;5;34m50\u001b[0m)                  │           \u001b[38;5;34m2,550\u001b[0m │\n",
       "├──────────────────────────────────────┼─────────────────────────────┼─────────────────┤\n",
       "│ dense_5 (\u001b[38;5;33mDense\u001b[0m)                      │ (\u001b[38;5;45mNone\u001b[0m, \u001b[38;5;34m50\u001b[0m)                  │           \u001b[38;5;34m2,550\u001b[0m │\n",
       "├──────────────────────────────────────┼─────────────────────────────┼─────────────────┤\n",
       "│ dense_6 (\u001b[38;5;33mDense\u001b[0m)                      │ (\u001b[38;5;45mNone\u001b[0m, \u001b[38;5;34m50\u001b[0m)                  │           \u001b[38;5;34m2,550\u001b[0m │\n",
       "├──────────────────────────────────────┼─────────────────────────────┼─────────────────┤\n",
       "│ dense_7 (\u001b[38;5;33mDense\u001b[0m)                      │ (\u001b[38;5;45mNone\u001b[0m, \u001b[38;5;34m1\u001b[0m)                   │              \u001b[38;5;34m51\u001b[0m │\n",
       "└──────────────────────────────────────┴─────────────────────────────┴─────────────────┘\n"
      ]
     },
     "metadata": {},
     "output_type": "display_data"
    },
    {
     "data": {
      "text/html": [
       "<pre style=\"white-space:pre;overflow-x:auto;line-height:normal;font-family:Menlo,'DejaVu Sans Mono',consolas,'Courier New',monospace\"><span style=\"font-weight: bold\"> Total params: </span><span style=\"color: #00af00; text-decoration-color: #00af00\">16,754</span> (65.45 KB)\n",
       "</pre>\n"
      ],
      "text/plain": [
       "\u001b[1m Total params: \u001b[0m\u001b[38;5;34m16,754\u001b[0m (65.45 KB)\n"
      ]
     },
     "metadata": {},
     "output_type": "display_data"
    },
    {
     "data": {
      "text/html": [
       "<pre style=\"white-space:pre;overflow-x:auto;line-height:normal;font-family:Menlo,'DejaVu Sans Mono',consolas,'Courier New',monospace\"><span style=\"font-weight: bold\"> Trainable params: </span><span style=\"color: #00af00; text-decoration-color: #00af00\">16,701</span> (65.24 KB)\n",
       "</pre>\n"
      ],
      "text/plain": [
       "\u001b[1m Trainable params: \u001b[0m\u001b[38;5;34m16,701\u001b[0m (65.24 KB)\n"
      ]
     },
     "metadata": {},
     "output_type": "display_data"
    },
    {
     "data": {
      "text/html": [
       "<pre style=\"white-space:pre;overflow-x:auto;line-height:normal;font-family:Menlo,'DejaVu Sans Mono',consolas,'Courier New',monospace\"><span style=\"font-weight: bold\"> Non-trainable params: </span><span style=\"color: #00af00; text-decoration-color: #00af00\">53</span> (216.00 B)\n",
       "</pre>\n"
      ],
      "text/plain": [
       "\u001b[1m Non-trainable params: \u001b[0m\u001b[38;5;34m53\u001b[0m (216.00 B)\n"
      ]
     },
     "metadata": {},
     "output_type": "display_data"
    }
   ],
   "source": [
    "model.summary()"
   ]
  },
  {
   "cell_type": "code",
   "execution_count": null,
   "id": "a3ad8cdd",
   "metadata": {},
   "outputs": [],
   "source": []
  }
 ],
 "metadata": {
  "kernelspec": {
   "display_name": "Python 3 (ipykernel)",
   "language": "python",
   "name": "python3"
  },
  "language_info": {
   "codemirror_mode": {
    "name": "ipython",
    "version": 3
   },
   "file_extension": ".py",
   "mimetype": "text/x-python",
   "name": "python",
   "nbconvert_exporter": "python",
   "pygments_lexer": "ipython3",
   "version": "3.9.7"
  }
 },
 "nbformat": 4,
 "nbformat_minor": 5
}
